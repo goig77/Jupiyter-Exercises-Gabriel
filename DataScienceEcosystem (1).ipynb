{
 "cells": [
  {
   "cell_type": "markdown",
   "id": "26d43b87-5f4b-4249-a971-97d0bf45cdff",
   "metadata": {},
   "source": [
    "#  Data Science Tools and Ecosystem "
   ]
  },
  {
   "cell_type": "markdown",
   "id": "d025b3fc-5609-41c6-92f6-5e9ea9f39c0c",
   "metadata": {},
   "source": [
    "In this notebook, Data Science Tools and Ecosystem are summarized. We present some basic features of the\n",
    "Jupyter notebooks using  Code and Markdown."
   ]
  },
  {
   "cell_type": "markdown",
   "id": "4210b13a-0209-461e-8dcf-113e3558de83",
   "metadata": {},
   "source": [
    "Some of the most popular languages that Data Scientists use are:\n",
    "\n",
    "1. Python\n",
    "2. R\n",
    "3. Julia\n",
    "   "
   ]
  },
  {
   "cell_type": "markdown",
   "id": "a0452cd8-b6ac-46ba-9fee-acbbb76ef0b0",
   "metadata": {},
   "source": [
    "Some of the commonly used libraries used by Data Scientists include:\n",
    "\n",
    "1. Pandas (for python)\n",
    "2. Matplolib (for python)\n",
    "3. ggplot  (for R)\n",
    "4. Tensorflow for (python)"
   ]
  },
  {
   "cell_type": "markdown",
   "id": "78ad4591-c28e-46ee-95e1-afd8d26dd7b7",
   "metadata": {},
   "source": [
    "## Data Science  Integrated Depelopment environment (IDE)\n",
    "This table shows the main IDEs in Data Science\n",
    "    \n",
    "| Data Science Tools | \n",
    "| -------------| \n",
    "| Jupyter Notebook |\n",
    "| Jupyter Lab | \n",
    "| Colab|\n",
    "| Visual Studio|\n"
   ]
  },
  {
   "cell_type": "markdown",
   "id": "44c7edf5-63a6-410e-8707-ff0ad3da0f05",
   "metadata": {},
   "source": [
    "### Arithmetic expressions in Python"
   ]
  },
  {
   "cell_type": "markdown",
   "id": "66290540-6301-4e1d-b5e7-a4126289e1e2",
   "metadata": {},
   "source": [
    "Here are some basic operations:"
   ]
  },
  {
   "cell_type": "code",
   "execution_count": 20,
   "id": "bdb90251-dfb2-4e95-ab94-59f3777405b9",
   "metadata": {},
   "outputs": [
    {
     "data": {
      "text/plain": [
       "17"
      ]
     },
     "execution_count": 20,
     "metadata": {},
     "output_type": "execute_result"
    }
   ],
   "source": [
    "(3*4)+5"
   ]
  },
  {
   "cell_type": "markdown",
   "id": "88428f0e-f96c-4ef2-9633-75f63cbcd9a4",
   "metadata": {},
   "source": [
    "This a simple arithmetic expression to mutiply then add integers"
   ]
  },
  {
   "cell_type": "markdown",
   "id": "b5fec1e5-bb6e-4474-b826-675ed5d284a2",
   "metadata": {},
   "source": [
    "In this code cell write an expression that converts 200 minutes into hours."
   ]
  },
  {
   "cell_type": "code",
   "execution_count": 24,
   "id": "41638704-e618-4d06-adce-6bfb0e66b3fb",
   "metadata": {},
   "outputs": [
    {
     "data": {
      "text/plain": [
       "3.3333333333333335"
      ]
     },
     "execution_count": 24,
     "metadata": {},
     "output_type": "execute_result"
    }
   ],
   "source": [
    "200/60"
   ]
  },
  {
   "cell_type": "markdown",
   "id": "459e8234-39ba-40e9-b83c-93d90f8c425d",
   "metadata": {},
   "source": [
    "**Objectives**"
   ]
  },
  {
   "cell_type": "markdown",
   "id": "4ca451c5-9421-43c2-95e6-2750c3968541",
   "metadata": {},
   "source": [
    "Some of the main goals oin this course are learning:\n",
    "* Data science fundamentals\n",
    "* Programming languages\n",
    "* Visualization packages"
   ]
  },
  {
   "cell_type": "markdown",
   "id": "d12d74df-cb94-4738-a7cd-313a06c4615f",
   "metadata": {},
   "source": [
    "## Author:\n",
    "Gabriel Oscar Ibañez García"
   ]
  },
  {
   "cell_type": "code",
   "execution_count": null,
   "id": "bd374251-e84b-4fb5-ae7a-adeb7b968e95",
   "metadata": {},
   "outputs": [],
   "source": []
  }
 ],
 "metadata": {
  "kernelspec": {
   "display_name": "Python 3 (ipykernel)",
   "language": "python",
   "name": "python3"
  },
  "language_info": {
   "codemirror_mode": {
    "name": "ipython",
    "version": 3
   },
   "file_extension": ".py",
   "mimetype": "text/x-python",
   "name": "python",
   "nbconvert_exporter": "python",
   "pygments_lexer": "ipython3",
   "version": "3.12.7"
  }
 },
 "nbformat": 4,
 "nbformat_minor": 5
}
